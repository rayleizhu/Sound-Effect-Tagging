{
 "cells": [
  {
   "cell_type": "markdown",
   "metadata": {},
   "source": [
    "## try torch audio"
   ]
  },
  {
   "cell_type": "code",
   "execution_count": null,
   "metadata": {},
   "outputs": [],
   "source": [
    "import torchaudio\n",
    "\n",
    "for i in range(100):\n",
    "    filename = f'mp3/train/train_{i:04d}.mp3'\n",
    "    waveform, sample_rate = torchaudio.load(filename)\n",
    "    assert len(waveform.size()) == 2, f'{i}'\n",
    "    print(\"Shape of waveform: {}\".format(waveform.size()))\n",
    "    print(\"Sample rate of waveform: {}\".format(sample_rate))\n",
    "    soundata = torch.mean(waveform, 0)\n",
    "    print(\"Shape of single: {}\".format(soundata.size()))"
   ]
  },
  {
   "cell_type": "markdown",
   "metadata": {},
   "source": [
    "Computing MFCC is timie comsuming. **If we do it on-the-fly, this will become a bottleneck and heavily slow down processing.** So we prepare the feature and load it from memory using TensorDataset later."
   ]
  },
  {
   "cell_type": "code",
   "execution_count": null,
   "metadata": {},
   "outputs": [],
   "source": [
    "from extra.audio_dataset import AudioTagging, Common, myMFCC, myPermute\n",
    "import torchvision.transforms as transforms"
   ]
  },
  {
   "cell_type": "code",
   "execution_count": null,
   "metadata": {},
   "outputs": [],
   "source": [
    "tf = transforms.Compose([Common(duration=3.0,\n",
    "                                resample_rate=44100),\n",
    "                         myMFCC(),\n",
    "                        ])\n",
    "# tf = Common(duration=3.0)\n",
    "\n",
    "train_dataset = AudioTagging('mp3/train', 'mp3/train.csv', transform=tf)\n",
    "test_dataset = AudioTagging('mp3/test', transform=tf)"
   ]
  },
  {
   "cell_type": "code",
   "execution_count": null,
   "metadata": {},
   "outputs": [],
   "source": [
    "my_mfcc_train, label_train = zip(*[ train_dataset[i] for i in range(len(train_dataset)) ])\n",
    "my_mfcc_test = [ test_dataset[i] for i in range(len(test_dataset)) ]"
   ]
  },
  {
   "cell_type": "code",
   "execution_count": null,
   "metadata": {},
   "outputs": [],
   "source": [
    "my_mfcc_train_tensor = torch.stack(my_mfcc_train, 0)\n",
    "my_mfcc_test_tensor = torch.stack(my_mfcc_test, 0)\n",
    "label_train_tensor = torch.stack(label_train, 0)\n",
    "\n",
    "print(my_mfcc_train_tensor.shape)\n",
    "print(label_train_tensor.shape)\n",
    "print(my_mfcc_test_tensor.shape)"
   ]
  },
  {
   "cell_type": "code",
   "execution_count": null,
   "metadata": {},
   "outputs": [],
   "source": [
    "torch.save({'mfcc_train': my_mfcc_train_tensor,\n",
    "            'mfcc_test': my_mfcc_test_tensor,\n",
    "            'label_train': label_train_tensor}, 'ckpt/mfccs.pt')"
   ]
  },
  {
   "cell_type": "markdown",
   "metadata": {},
   "source": [
    "Then we create TensorDataset to train our model."
   ]
  },
  {
   "cell_type": "code",
   "execution_count": null,
   "metadata": {},
   "outputs": [],
   "source": [
    "from torch.utils.data import TensorDataset\n",
    "\n",
    "my_mfcc_train_dataset = TensorDataset(my_mfcc_train_tensor, label_train_tensor)\n",
    "my_mfcc_test_dataset = TensorDataset(my_mfcc_test_tensor)"
   ]
  },
  {
   "cell_type": "markdown",
   "metadata": {},
   "source": [
    "now, we are ready to train our model using [skorch](https://github.com/skorch-dev/skorch)."
   ]
  },
  {
   "cell_type": "code",
   "execution_count": null,
   "metadata": {},
   "outputs": [],
   "source": [
    "from skorch import NeuralNet\n",
    "from extra.nn_model import GRUTagging\n",
    "import torch.optim as optim\n",
    "import torch.nn as nn\n",
    "from sklearn.model_selection import GridSearchCV"
   ]
  },
  {
   "cell_type": "code",
   "execution_count": null,
   "metadata": {},
   "outputs": [],
   "source": [
    "model = GRUTagging(input_dim=13,\n",
    "                   hidden_dim=128,\n",
    "                   batch_first=True)\n",
    "\n",
    "net = NeuralNet(model,\n",
    "                criterion=nn.BCEWithLogitsLoss,\n",
    "                optimizer=optim.Adam,\n",
    "                device='cuda',\n",
    "                batch_size=32,\n",
    "                max_epochs=50\n",
    "               )"
   ]
  },
  {
   "cell_type": "code",
   "execution_count": null,
   "metadata": {},
   "outputs": [],
   "source": [
    "net.fit(train_dataset)"
   ]
  },
  {
   "cell_type": "code",
   "execution_count": null,
   "metadata": {},
   "outputs": [],
   "source": [
    "params = {\n",
    "    'max_epochs': [10, 20, 30],\n",
    "    'criterion': [nn.BCEWithLogitsLoss],\n",
    "    'module__hidden_dim': [64, 128],\n",
    "    'module__dropout': [0.2, 0.3]\n",
    "}\n",
    "\n",
    "gs = GridSearchCV(net, params, refit=False, cv=5)\n",
    "gs.fit(my_mfcc_train_tensor, label_train_tensor, scoring='accuracy')"
   ]
  },
  {
   "cell_type": "code",
   "execution_count": null,
   "metadata": {},
   "outputs": [],
   "source": [
    "my_mfcc_test_dataset[0]"
   ]
  },
  {
   "cell_type": "code",
   "execution_count": null,
   "metadata": {},
   "outputs": [],
   "source": [
    "train_dataset[50][0].shape"
   ]
  },
  {
   "cell_type": "code",
   "execution_count": null,
   "metadata": {},
   "outputs": [],
   "source": [
    "train_dataset.audio_names"
   ]
  }
 ],
 "metadata": {
  "kernelspec": {
   "display_name": "Python 3",
   "language": "python",
   "name": "python3"
  },
  "language_info": {
   "codemirror_mode": {
    "name": "ipython",
    "version": 3
   },
   "file_extension": ".py",
   "mimetype": "text/x-python",
   "name": "python",
   "nbconvert_exporter": "python",
   "pygments_lexer": "ipython3",
   "version": "3.7.5"
  }
 },
 "nbformat": 4,
 "nbformat_minor": 2
}
